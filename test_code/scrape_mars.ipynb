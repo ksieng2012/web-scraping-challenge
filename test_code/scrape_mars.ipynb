{
 "cells": [
  {
   "cell_type": "code",
   "execution_count": 1,
   "metadata": {},
   "outputs": [],
   "source": [
    "# import all dependencies\n",
    "import pandas as pd\n",
    "from splinter import Browser\n",
    "from bs4 import BeautifulSoup as bs\n",
    "from datetime import datetime\n",
    "import os\n",
    "import time\n",
    "from urllib.parse import urlsplit"
   ]
  },
  {
   "cell_type": "code",
   "execution_count": 2,
   "metadata": {},
   "outputs": [],
   "source": [
    "# function to start a webpage using chromedriver\n",
    "def start_web():\n",
    "    executable_path = {'executable_path':\"chromedriver.exe\"}\n",
    "    return Browser(\"chrome\", **executable_path, headless=False)"
   ]
  },
  {
   "cell_type": "code",
   "execution_count": 3,
   "metadata": {},
   "outputs": [],
   "source": [
    "# # scrape()\n",
    "def scrape():\n",
    "    scrape_data = {}\n",
    "    marsNews = mars_news()\n",
    "    scrape_data['news_title'] = marsNews['news_title']\n",
    "    scrape_data['news_paragraph'] = marsNews['new_p']\n",
    "    scrape_data['mars_img'] = mars_img()\n",
    "    scrape_data['mars_fac'] = mars_fac()\n",
    "    scrape_data['mars_hemi'] = mars_hemi()\n",
    "\n",
    "    return scrape_data"
   ]
  },
  {
   "cell_type": "code",
   "execution_count": 4,
   "metadata": {},
   "outputs": [],
   "source": [
    "# function for scraping mars news\n",
    "def mars_news ():\n",
    "\n",
    "    # declare output dict\n",
    "    output_dict = {}\n",
    "\n",
    "    # start brouser\n",
    "    browser = start_web()\n",
    "\n",
    "    # loading the webpage\n",
    "    url = \"https://mars.nasa.gov/news\"\n",
    "    browser.visit(url)\n",
    "\n",
    "    # writing page to html using BeautifulSoup\n",
    "    html = browser.html\n",
    "    soup = bs(html, \"html.parser\")\n",
    "    \n",
    "    time.sleep(0.5)\n",
    "\n",
    "    # extracting news title and news paragraph\n",
    "    title = [title for title in [tt.a.text for tt in soup.find_all(\"div\", class_=\"content_title\") if tt.a] if title != \"\"]\n",
    "    time.sleep(0.5)\n",
    "    # news_p = soup.find_all(\"div\", class_=\"article_teaser_body\")\n",
    "    para = [para.text for para in soup.find_all(\"div\", class_=\"article_teaser_body\")]\n",
    "    time.sleep(0.5)\n",
    "    # scrap date\n",
    "    date = [date.text for date in soup.find_all(\"div\", class_=\"list_date\")]\n",
    "\n",
    "    # output dicts\n",
    "    output_dict = {'news_title': title [0], 'new_p' : para [0], 'news_d': date [0]}\n",
    "\n",
    "    # quit broswer\n",
    "    browser.quit()\n",
    "\n",
    "    # return output\n",
    "    return output_dict"
   ]
  },
  {
   "cell_type": "code",
   "execution_count": 5,
   "metadata": {},
   "outputs": [],
   "source": [
    "# JPL Mars Space Images - Featured Image\n",
    "def mars_img():\n",
    "    # start brouser\n",
    "    browser = start_web()\n",
    "\n",
    "    url_img = \"https://www.jpl.nasa.gov/spaceimages/?search=&category=Mars\"\n",
    "    browser.visit(url_img)\n",
    "    \n",
    "    time.sleep(0.5)\n",
    "    \n",
    "    base_url = \"{0.scheme}://{0.netloc}/\".format(urlsplit(url_img))\n",
    "\n",
    "    # Create an Xpath to graph the image\n",
    "    xpath = \"//*[@id=\\\"page\\\"]/section[3]/div/ul/li[1]/a/div/div[2]/img\"\n",
    "\n",
    "    #Use splinter to click on the mars featured image\n",
    "    #to bring the full resolution image\n",
    "    results = browser.find_by_xpath(xpath)\n",
    "    img = results[0]\n",
    "    img.click()\n",
    "    \n",
    "    time.sleep(0.5)\n",
    "\n",
    "    #get image url using BeautifulSoup\n",
    "    html_image = browser.html\n",
    "    soup = bs(html_image, \"html.parser\")\n",
    "    img_url = soup.find(\"img\", class_=\"fancybox-image\")[\"src\"]\n",
    "    featured_image_url = base_url + img_url\n",
    "\n",
    "    # quit broswer\n",
    "    browser.quit()\n",
    "\n",
    "    return featured_image_url"
   ]
  },
  {
   "cell_type": "code",
   "execution_count": 6,
   "metadata": {},
   "outputs": [],
   "source": [
    "# # Mars Facts\n",
    "def mars_fac ():\n",
    "\n",
    "    url_fac = \"https://space-facts.com/mars/\"\n",
    "\n",
    "    # Use panda to read HTML page\n",
    "    tables = pd.read_html(url_fac)\n",
    "    # create proper mars dataFrames\n",
    "    df_mars = tables[0].copy()\n",
    "    df_mars.columns=[\"description\", \"value\"]\n",
    "\n",
    "    # convert dataFrames to HTML tables\n",
    "    mars_html_table = df_mars.to_html(index = False)\n",
    "\n",
    "    return mars_html_table"
   ]
  },
  {
   "cell_type": "code",
   "execution_count": 7,
   "metadata": {},
   "outputs": [],
   "source": [
    "# Mars Hemispheres\n",
    "def mars_hemi ():\n",
    "    # start brouser\n",
    "    browser = start_web()\n",
    "\n",
    "    url_hemispheres = \"https://astrogeology.usgs.gov/search/results?q=hemisphere+enhanced&k1=target&v1=Mars\"\n",
    "    url_base_hemi = \"{0.scheme}://{0.netloc}/\".format(urlsplit(url_hemispheres))\n",
    "\n",
    "    browser.visit(url_hemispheres)\n",
    "\n",
    "    time.sleep(0.5)\n",
    "    hemispheres_html = browser.html\n",
    "    soup = bs(hemispheres_html, 'html.parser')\n",
    "\n",
    "    # getting all contents in class_='item'\n",
    "    items = soup.find_all('div', class_='item')\n",
    "\n",
    "    # empty array\n",
    "    hemisphere_image_urls = []\n",
    "\n",
    "    for item in items:\n",
    "        # getting title from h3 tag\n",
    "        title = item.find('h3').text\n",
    "        #getting image url from <a> tag with class \"itemLink product-item\"\n",
    "        img_url = item.find('a', class_='itemLink product-item')['href']\n",
    "        \n",
    "        # visit webpage\n",
    "        browser.visit(url_base_hemi+img_url)\n",
    "        \n",
    "        # writing broser to html\n",
    "        img_html = browser.html\n",
    "        soup = bs(img_html, 'html.parser')\n",
    "        \n",
    "        # finding jpeg link\n",
    "        jpeg_url = url_base_hemi + soup.find('img', class_='wide-image')['src']\n",
    "        \n",
    "        # append the url as list of dict\n",
    "        hemisphere_image_urls.append({'title' : title,  'jpeg_url' : jpeg_url})\n",
    "        \n",
    "        # set time sleep\n",
    "        time.sleep(0.5)\n",
    "\n",
    "    # quit broswer\n",
    "    browser.quit()\n",
    "    \n",
    "    return hemisphere_image_urls"
   ]
  },
  {
   "cell_type": "code",
   "execution_count": 10,
   "metadata": {},
   "outputs": [],
   "source": [
    "a = scrape()"
   ]
  },
  {
   "cell_type": "code",
   "execution_count": 70,
   "metadata": {},
   "outputs": [
    {
     "data": {
      "text/plain": [
       "dict_keys(['news_title', 'news_paragraph', 'mars_img', 'mars_fac', 'mars_hemi'])"
      ]
     },
     "execution_count": 70,
     "metadata": {},
     "output_type": "execute_result"
    }
   ],
   "source": [
    "a.keys()"
   ]
  },
  {
   "cell_type": "code",
   "execution_count": 11,
   "metadata": {},
   "outputs": [
    {
     "data": {
      "text/plain": [
       "\"3 Things We've Learned From NASA's Mars InSight \""
      ]
     },
     "execution_count": 11,
     "metadata": {},
     "output_type": "execute_result"
    }
   ],
   "source": [
    "a['news_title']"
   ]
  },
  {
   "cell_type": "code",
   "execution_count": 12,
   "metadata": {},
   "outputs": [
    {
     "data": {
      "text/plain": [
       "'Scientists are finding new mysteries since the geophysics mission landed two years ago.'"
      ]
     },
     "execution_count": 12,
     "metadata": {},
     "output_type": "execute_result"
    }
   ],
   "source": [
    "a['news_paragraph']"
   ]
  },
  {
   "cell_type": "code",
   "execution_count": 13,
   "metadata": {},
   "outputs": [
    {
     "data": {
      "text/plain": [
       "'https://www.jpl.nasa.gov//spaceimages/images/largesize/PIA24278_hires.jpg'"
      ]
     },
     "execution_count": 13,
     "metadata": {},
     "output_type": "execute_result"
    }
   ],
   "source": [
    "a['mars_img']"
   ]
  },
  {
   "cell_type": "code",
   "execution_count": 15,
   "metadata": {},
   "outputs": [
    {
     "name": "stdout",
     "output_type": "stream",
     "text": [
      "<table border=\"1\" class=\"dataframe\">\n",
      "  <thead>\n",
      "    <tr style=\"text-align: right;\">\n",
      "      <th>description</th>\n",
      "      <th>value</th>\n",
      "    </tr>\n",
      "  </thead>\n",
      "  <tbody>\n",
      "    <tr>\n",
      "      <td>Equatorial Diameter:</td>\n",
      "      <td>6,792 km</td>\n",
      "    </tr>\n",
      "    <tr>\n",
      "      <td>Polar Diameter:</td>\n",
      "      <td>6,752 km</td>\n",
      "    </tr>\n",
      "    <tr>\n",
      "      <td>Mass:</td>\n",
      "      <td>6.39 × 10^23 kg (0.11 Earths)</td>\n",
      "    </tr>\n",
      "    <tr>\n",
      "      <td>Moons:</td>\n",
      "      <td>2 (Phobos &amp; Deimos)</td>\n",
      "    </tr>\n",
      "    <tr>\n",
      "      <td>Orbit Distance:</td>\n",
      "      <td>227,943,824 km (1.38 AU)</td>\n",
      "    </tr>\n",
      "    <tr>\n",
      "      <td>Orbit Period:</td>\n",
      "      <td>687 days (1.9 years)</td>\n",
      "    </tr>\n",
      "    <tr>\n",
      "      <td>Surface Temperature:</td>\n",
      "      <td>-87 to -5 °C</td>\n",
      "    </tr>\n",
      "    <tr>\n",
      "      <td>First Record:</td>\n",
      "      <td>2nd millennium BC</td>\n",
      "    </tr>\n",
      "    <tr>\n",
      "      <td>Recorded By:</td>\n",
      "      <td>Egyptian astronomers</td>\n",
      "    </tr>\n",
      "  </tbody>\n",
      "</table>\n"
     ]
    }
   ],
   "source": [
    "print(a['mars_fac'])"
   ]
  },
  {
   "cell_type": "code",
   "execution_count": 17,
   "metadata": {},
   "outputs": [
    {
     "data": {
      "text/plain": [
       "[{'title': 'Cerberus Hemisphere Enhanced',\n",
       "  'jpeg_url': 'https://astrogeology.usgs.gov//cache/images/f5e372a36edfa389625da6d0cc25d905_cerberus_enhanced.tif_full.jpg'},\n",
       " {'title': 'Schiaparelli Hemisphere Enhanced',\n",
       "  'jpeg_url': 'https://astrogeology.usgs.gov//cache/images/3778f7b43bbbc89d6e3cfabb3613ba93_schiaparelli_enhanced.tif_full.jpg'},\n",
       " {'title': 'Syrtis Major Hemisphere Enhanced',\n",
       "  'jpeg_url': 'https://astrogeology.usgs.gov//cache/images/555e6403a6ddd7ba16ddb0e471cadcf7_syrtis_major_enhanced.tif_full.jpg'},\n",
       " {'title': 'Valles Marineris Hemisphere Enhanced',\n",
       "  'jpeg_url': 'https://astrogeology.usgs.gov//cache/images/b3c7c6c9138f57b4756be9b9c43e3a48_valles_marineris_enhanced.tif_full.jpg'}]"
      ]
     },
     "execution_count": 17,
     "metadata": {},
     "output_type": "execute_result"
    }
   ],
   "source": [
    "a['mars_hemi']"
   ]
  },
  {
   "cell_type": "code",
   "execution_count": 18,
   "metadata": {},
   "outputs": [
    {
     "data": {
      "text/plain": [
       "'Cerberus Hemisphere Enhanced'"
      ]
     },
     "execution_count": 18,
     "metadata": {},
     "output_type": "execute_result"
    }
   ],
   "source": [
    "a['mars_hemi'][0]['title']"
   ]
  },
  {
   "cell_type": "code",
   "execution_count": 19,
   "metadata": {},
   "outputs": [
    {
     "data": {
      "text/plain": [
       "'https://astrogeology.usgs.gov//cache/images/f5e372a36edfa389625da6d0cc25d905_cerberus_enhanced.tif_full.jpg'"
      ]
     },
     "execution_count": 19,
     "metadata": {},
     "output_type": "execute_result"
    }
   ],
   "source": [
    "a['mars_hemi'][0]['jpeg_url']"
   ]
  },
  {
   "cell_type": "code",
   "execution_count": null,
   "metadata": {},
   "outputs": [],
   "source": []
  }
 ],
 "metadata": {
  "kernelspec": {
   "display_name": "Python 3",
   "language": "python",
   "name": "python3"
  },
  "language_info": {
   "codemirror_mode": {
    "name": "ipython",
    "version": 3
   },
   "file_extension": ".py",
   "mimetype": "text/x-python",
   "name": "python",
   "nbconvert_exporter": "python",
   "pygments_lexer": "ipython3",
   "version": "3.8.3"
  }
 },
 "nbformat": 4,
 "nbformat_minor": 4
}
